{
  "cells": [
    {
      "cell_type": "markdown",
      "metadata": {
        "id": "view-in-github",
        "colab_type": "text"
      },
      "source": [
        "<a href=\"https://colab.research.google.com/github/marisukanis/Repository1/blob/main/01_Overview_of_TensorFlow_and_Machine_Learning_updated.ipynb\" target=\"_parent\"><img src=\"https://colab.research.google.com/assets/colab-badge.svg\" alt=\"Open In Colab\"/></a>"
      ]
    },
    {
      "cell_type": "markdown",
      "metadata": {
        "id": "6T5jIgsaNydp"
      },
      "source": [
        "# TensorFlow 2.0 <a class=\"tocSkip\">\n",
        "\n",
        "\n",
        "\n"
      ]
    },
    {
      "cell_type": "code",
      "source": [
        "import numpy as np"
      ],
      "metadata": {
        "id": "y4ilycGpYpp4"
      },
      "execution_count": 1,
      "outputs": []
    },
    {
      "cell_type": "code",
      "source": [
        "a = np.array([1,2,3]).reshape(-1,1)\n",
        "print(a.shape)\n",
        "b = np.array([1,2])\n",
        "print(b.shape)"
      ],
      "metadata": {
        "colab": {
          "base_uri": "https://localhost:8080/"
        },
        "id": "16W1wgmkYqEa",
        "outputId": "90253c47-7293-4c76-bc5d-3cf7ee0e354c"
      },
      "execution_count": 9,
      "outputs": [
        {
          "output_type": "stream",
          "name": "stdout",
          "text": [
            "(3, 1)\n",
            "(2,)\n"
          ]
        }
      ]
    },
    {
      "cell_type": "code",
      "source": [
        "a+b"
      ],
      "metadata": {
        "colab": {
          "base_uri": "https://localhost:8080/"
        },
        "id": "LXPb8q4JYqLc",
        "outputId": "72b53fc9-6fc7-4872-eae8-bb918ecf9ed6"
      },
      "execution_count": 10,
      "outputs": [
        {
          "output_type": "execute_result",
          "data": {
            "text/plain": [
              "array([[2, 3],\n",
              "       [3, 4],\n",
              "       [4, 5]])"
            ]
          },
          "metadata": {},
          "execution_count": 10
        }
      ]
    },
    {
      "cell_type": "code",
      "execution_count": 11,
      "metadata": {
        "colab": {
          "base_uri": "https://localhost:8080/"
        },
        "id": "Y6wf-ySBNydq",
        "outputId": "09b27293-6cb0-4d91-ef70-86e3c0a32d1a"
      },
      "outputs": [
        {
          "output_type": "stream",
          "name": "stdout",
          "text": [
            "Version TensorFlow : 2.9.2\n",
            "Version Numpy : 1.21.6\n",
            "Interpreter Pythona and version: 3.8.16 (default, Dec  7 2022, 01:12:13) \n",
            "[GCC 7.5.0]\n"
          ]
        }
      ],
      "source": [
        "import tensorflow as tf\n",
        "print('Version TensorFlow :',tf.__version__)\n",
        "import numpy as np\n",
        "print('Version Numpy :',np.__version__)\n",
        "import sys\n",
        "print('Interpreter Pythona and version:',sys.version)"
      ]
    },
    {
      "cell_type": "markdown",
      "metadata": {
        "id": "CV08za3ANydr"
      },
      "source": [
        "# Hello TensorFlow "
      ]
    },
    {
      "cell_type": "code",
      "execution_count": 12,
      "metadata": {
        "colab": {
          "base_uri": "https://localhost:8080/"
        },
        "id": "hd2DU_h5Nydr",
        "outputId": "2480e4da-13a5-434e-bc02-206bad82730c"
      },
      "outputs": [
        {
          "output_type": "stream",
          "name": "stdout",
          "text": [
            "Hello in Tensorflow project!!\n"
          ]
        }
      ],
      "source": [
        "hello = tf.constant('Hello in Tensorflow project!!')\n",
        "tf.print(hello)"
      ]
    },
    {
      "cell_type": "markdown",
      "metadata": {
        "id": "xjngWbXTNyds"
      },
      "source": [
        "# Pernament"
      ]
    },
    {
      "cell_type": "code",
      "execution_count": null,
      "metadata": {
        "colab": {
          "base_uri": "https://localhost:8080/"
        },
        "id": "9Yh5oJjnNyds",
        "outputId": "5658503c-b839-4377-9eff-5cd744936479"
      },
      "outputs": [
        {
          "output_type": "stream",
          "name": "stdout",
          "text": [
            "const1 (x):  tf.Tensor(34, shape=(), dtype=int32)\n",
            "const2 (y):  tf.Tensor(59.0, shape=(), dtype=float32)\n",
            "const3 (z):  tf.Tensor(32.0, shape=(), dtype=float32)\n"
          ]
        }
      ],
      "source": [
        "const1 = tf.constant(34, name='x')\n",
        "const2 = tf.constant(59.0, name='y')\n",
        "const3 = tf.constant(32.0, dtype=tf.float32, name='z')\n",
        "print('const1 (x): ', const1)\n",
        "print('const2 (y): ', const2)\n",
        "print('const3 (z): ', const3)"
      ]
    },
    {
      "cell_type": "code",
      "execution_count": null,
      "metadata": {
        "colab": {
          "base_uri": "https://localhost:8080/"
        },
        "id": "4YnFq3dwNyds",
        "outputId": "8de5ca33-82e4-4bfe-b54e-514cb67e56cd"
      },
      "outputs": [
        {
          "output_type": "stream",
          "name": "stdout",
          "text": [
            "run([const1,const2,const3]) : [34, 59, 32]\n"
          ]
        }
      ],
      "source": [
        "print('run([const1,const2,const3]) : ', end='')\n",
        "tf.print([const1, const2, const3])"
      ]
    },
    {
      "cell_type": "markdown",
      "metadata": {
        "id": "YixmDhPqNydt"
      },
      "source": [
        "# Operations"
      ]
    },
    {
      "cell_type": "code",
      "execution_count": null,
      "metadata": {
        "colab": {
          "base_uri": "https://localhost:8080/"
        },
        "id": "EiHTJ9g_Nydt",
        "outputId": "5ee85fef-aa98-495a-c748-6eafa790677f"
      },
      "outputs": [
        {
          "output_type": "stream",
          "name": "stdout",
          "text": [
            "op1 :  tf.Tensor(91.0, shape=(), dtype=float32)\n",
            "op2 :  tf.Tensor(1888.0, shape=(), dtype=float32)\n"
          ]
        }
      ],
      "source": [
        "op1 = tf.add(const2, const3)\n",
        "op2 = tf.multiply(const2, const3)\n",
        "print('op1 : ', op1)\n",
        "print('op2 : ', op2)"
      ]
    },
    {
      "cell_type": "code",
      "execution_count": null,
      "metadata": {
        "colab": {
          "base_uri": "https://localhost:8080/"
        },
        "id": "6I4n3aRNNydt",
        "outputId": "4bba325d-ed6d-4cdc-de32-e7233e388ddd"
      },
      "outputs": [
        {
          "output_type": "stream",
          "name": "stdout",
          "text": [
            "run(op1) : 91\n",
            "run(op2) : 1888\n"
          ]
        }
      ],
      "source": [
        "print('run(op1) : ', end='')\n",
        "tf.print(op1)\n",
        "print('run(op2) : ', end='')\n",
        "tf.print(op2)"
      ]
    },
    {
      "cell_type": "markdown",
      "metadata": {
        "id": "UmqLGpokNydu"
      },
      "source": [
        "# Functions"
      ]
    },
    {
      "cell_type": "code",
      "execution_count": null,
      "metadata": {
        "id": "dpxtd9ymNydw"
      },
      "outputs": [],
      "source": [
        "@tf.function\n",
        "def add_func(x):\n",
        "    y = x + 10\n",
        "    return y"
      ]
    },
    {
      "cell_type": "code",
      "execution_count": null,
      "metadata": {
        "id": "fwjkO-EyNydw"
      },
      "outputs": [],
      "source": [
        "x = tf.constant([10, 20, 30, 40])"
      ]
    },
    {
      "cell_type": "code",
      "execution_count": null,
      "metadata": {
        "id": "luYe9wLXNydw"
      },
      "outputs": [],
      "source": [
        "result = add_func(x)"
      ]
    },
    {
      "cell_type": "code",
      "execution_count": null,
      "metadata": {
        "colab": {
          "base_uri": "https://localhost:8080/"
        },
        "id": "mILIsRX5Nydx",
        "outputId": "7fc5043b-221a-4610-bc69-f9283348a4e7"
      },
      "outputs": [
        {
          "output_type": "stream",
          "name": "stdout",
          "text": [
            "tf.Tensor([20 30 40 50], shape=(4,), dtype=int32)\n"
          ]
        }
      ],
      "source": [
        "print(result)"
      ]
    },
    {
      "cell_type": "code",
      "execution_count": null,
      "metadata": {
        "colab": {
          "base_uri": "https://localhost:8080/"
        },
        "id": "EzgW03AqNydx",
        "outputId": "81f0de76-153d-4016-9f2b-b2f8f9ba2bd4"
      },
      "outputs": [
        {
          "output_type": "stream",
          "name": "stdout",
          "text": [
            "[20 30 40 50]\n"
          ]
        }
      ],
      "source": [
        "tf.print(result)"
      ]
    },
    {
      "cell_type": "markdown",
      "metadata": {
        "id": "Z-oD3gxjNydy"
      },
      "source": [
        "# Create tensors from existing objects"
      ]
    },
    {
      "cell_type": "markdown",
      "metadata": {
        "id": "mggDrj1BNydy"
      },
      "source": [
        "## Tensors of zero order (scalars)"
      ]
    },
    {
      "cell_type": "code",
      "execution_count": null,
      "metadata": {
        "colab": {
          "base_uri": "https://localhost:8080/"
        },
        "id": "0HqJ2V1-Nydy",
        "outputId": "cd8601d1-8cf6-4e1a-9f1c-b323121824ed"
      },
      "outputs": [
        {
          "output_type": "stream",
          "name": "stdout",
          "text": [
            "tf_t :  tf.Tensor(5.0, shape=(), dtype=float64)\n",
            "run(tf_t) : 5\n"
          ]
        }
      ],
      "source": [
        "tf_t = tf.convert_to_tensor(5.0, dtype=tf.float64)\n",
        "\n",
        "print('tf_t : ', tf_t)\n",
        "print('run(tf_t) : ', end='')\n",
        "tf.print(tf_t)"
      ]
    },
    {
      "cell_type": "markdown",
      "metadata": {
        "id": "2uqSspFsNydy"
      },
      "source": [
        "## 1st order tensors (vectors)"
      ]
    },
    {
      "cell_type": "code",
      "execution_count": null,
      "metadata": {
        "scrolled": true,
        "colab": {
          "base_uri": "https://localhost:8080/"
        },
        "id": "vlLy1o5ENydy",
        "outputId": "29c6d6c2-9bdf-49cf-bb71-8a5278e81a22"
      },
      "outputs": [
        {
          "output_type": "stream",
          "name": "stdout",
          "text": [
            "Shape a1dim :  (5,)\n",
            "tf_t :  tf.Tensor([1.   2.   3.   4.   5.99], shape=(5,), dtype=float64)\n",
            "tf_t[0] :  tf.Tensor(1.0, shape=(), dtype=float64)\n",
            "tf_t[0] :  tf.Tensor(3.0, shape=(), dtype=float64)\n",
            "run(tf_t) : \n",
            "[1 2 3 4 5.99]\n"
          ]
        }
      ],
      "source": [
        "a1dim = np.array([1, 2, 3, 4, 5.99])\n",
        "print('Shape a1dim : ', a1dim.shape)\n",
        "\n",
        "tf_t = tf.convert_to_tensor(a1dim, dtype=tf.float64)\n",
        "\n",
        "print('tf_t : ', tf_t)\n",
        "print('tf_t[0] : ', tf_t[0])\n",
        "print('tf_t[0] : ', tf_t[2])\n",
        "print('run(tf_t) : ')\n",
        "tf.print(tf_t)"
      ]
    },
    {
      "cell_type": "markdown",
      "metadata": {
        "id": "RgOx2wSONydy"
      },
      "source": [
        "## 2nd order tensors (matrices)"
      ]
    },
    {
      "cell_type": "code",
      "execution_count": null,
      "metadata": {
        "colab": {
          "base_uri": "https://localhost:8080/"
        },
        "id": "IVT1bllUNydy",
        "outputId": "3b794509-fd71-4214-d457-056c3512f5b9"
      },
      "outputs": [
        {
          "output_type": "stream",
          "name": "stdout",
          "text": [
            "Shape a2dim :  (3, 5)\n",
            "tf_t :  tf.Tensor(\n",
            "[[1.   2.   3.   4.   5.99]\n",
            " [2.   3.   4.   5.   6.99]\n",
            " [3.   4.   5.   6.   7.99]], shape=(3, 5), dtype=float64)\n",
            "tf_t[0][0] :  tf.Tensor(1.0, shape=(), dtype=float64)\n",
            "tf_t[1][2] :  tf.Tensor(4.0, shape=(), dtype=float64)\n",
            "run(tf_t) :\n",
            "[[1 2 3 4 5.99]\n",
            " [2 3 4 5 6.99]\n",
            " [3 4 5 6 7.99]]\n"
          ]
        }
      ],
      "source": [
        "a2dim = np.array([(1, 2, 3, 4, 5.99),\n",
        "                  (2, 3, 4, 5, 6.99),\n",
        "                  (3, 4, 5, 6, 7.99)\n",
        "                  ])\n",
        "print('Shape a2dim : ', a2dim.shape)\n",
        "\n",
        "tf_t = tf.convert_to_tensor(a2dim, dtype=tf.float64)\n",
        "\n",
        "print('tf_t : ', tf_t)\n",
        "print('tf_t[0][0] : ', tf_t[0][0])\n",
        "print('tf_t[1][2] : ', tf_t[1][2])\n",
        "print('run(tf_t) :') \n",
        "tf.print(tf_t)"
      ]
    },
    {
      "cell_type": "markdown",
      "metadata": {
        "id": "1vxbqqX5Nydz"
      },
      "source": [
        "## 3rd order tensors"
      ]
    },
    {
      "cell_type": "code",
      "execution_count": null,
      "metadata": {
        "colab": {
          "base_uri": "https://localhost:8080/"
        },
        "id": "A4oFEBF9Nydz",
        "outputId": "7723bc88-1652-454a-9ecd-c492a203d55f"
      },
      "outputs": [
        {
          "output_type": "stream",
          "name": "stdout",
          "text": [
            "Shape a3dim :  (2, 2, 2)\n",
            "tf_t :  tf.Tensor(\n",
            "[[[1. 2.]\n",
            "  [3. 4.]]\n",
            "\n",
            " [[5. 6.]\n",
            "  [7. 8.]]], shape=(2, 2, 2), dtype=float64)\n",
            "tf_t[0][0][0] :  tf.Tensor(1.0, shape=(), dtype=float64)\n",
            "tf_t[1][1][1] :  tf.Tensor(8.0, shape=(), dtype=float64)\n",
            "run(tf_t) : \n",
            "[[[1 2]\n",
            "  [3 4]]\n",
            "\n",
            " [[5 6]\n",
            "  [7 8]]]\n"
          ]
        }
      ],
      "source": [
        "a3dim = np.array([[[1, 2],\n",
        "                   [3, 4]\n",
        "                   ],\n",
        "                  [[5, 6],\n",
        "                   [7, 8]\n",
        "                   ]\n",
        "                  ])\n",
        "print('Shape a3dim : ', a3dim.shape)\n",
        "\n",
        "tf_t = tf.convert_to_tensor(a3dim, dtype=tf.float64)\n",
        "\n",
        "print('tf_t : ', tf_t)\n",
        "print('tf_t[0][0][0] : ', tf_t[0][0][0])\n",
        "print('tf_t[1][1][1] : ', tf_t[1][1][1])\n",
        "print('run(tf_t) : ')\n",
        "tf.print(tf_t)"
      ]
    },
    {
      "cell_type": "markdown",
      "metadata": {
        "id": "ONGqB00xNydz"
      },
      "source": [
        "# Variables"
      ]
    },
    {
      "cell_type": "code",
      "execution_count": null,
      "metadata": {
        "scrolled": true,
        "colab": {
          "base_uri": "https://localhost:8080/"
        },
        "outputId": "73dffea1-494c-4f21-8c6b-4e9aee70ca9a",
        "id": "QDIVAK-LGTL0"
      },
      "outputs": [
        {
          "output_type": "stream",
          "name": "stdout",
          "text": [
            "w: <tf.Variable 'Variable:0' shape=(1,) dtype=float32>\n",
            "x: Tensor(\"Placeholder:0\", dtype=float32)\n",
            "b: <tf.Variable 'Variable_1:0' shape=(1,) dtype=float32>\n",
            "y: Tensor(\"add:0\", dtype=float32)\n"
          ]
        }
      ],
      "source": [
        "# Placeholdery are not executable immediately, so we need to disable execution requests in TF2\n",
        "tf.compat.v1.disable_eager_execution()\n",
        "\n",
        "# Linear model y = w * x + b\n",
        "# Defining model parameters\n",
        "w = tf.Variable([.3], tf.float32)\n",
        "b = tf.Variable([-.3], tf.float32)\n",
        "# Defining model input and output\n",
        "x = tf.compat.v1.placeholder(tf.float32)\n",
        "y = w * x + b\n",
        "\n",
        "print('w:', w)\n",
        "print('x:', x)\n",
        "print('b:', b)\n",
        "print('y:', y)"
      ]
    },
    {
      "cell_type": "code",
      "execution_count": null,
      "metadata": {
        "scrolled": true,
        "colab": {
          "base_uri": "https://localhost:8080/"
        },
        "id": "TLchGd7qNydz",
        "outputId": "9a34b8ae-c3f4-4180-bbb1-796e16c14764"
      },
      "outputs": [
        {
          "output_type": "stream",
          "name": "stdout",
          "text": [
            "run(y,{x:[1,2,3,4]}) :  [0.         0.3        0.6        0.90000004]\n"
          ]
        }
      ],
      "source": [
        "# Session initiation and printing of the y variable\n",
        "with tf.compat.v1.Session() as sess:\n",
        "  sess.run(tf.compat.v1.global_variables_initializer())\n",
        "  print('run(y,{x:[1,2,3,4]}) : ', sess.run(y, {x: [1, 2, 3, 4]}))"
      ]
    },
    {
      "cell_type": "markdown",
      "metadata": {
        "id": "AfeUrdxTNydz"
      },
      "source": [
        "# Create tensors from library functions"
      ]
    },
    {
      "cell_type": "code",
      "execution_count": null,
      "metadata": {
        "colab": {
          "base_uri": "https://localhost:8080/"
        },
        "id": "hgYOyVgENydz",
        "outputId": "3b45fc62-d734-4129-b0c1-737de5c4856e"
      },
      "outputs": [
        {
          "output_type": "stream",
          "name": "stdout",
          "text": [
            "Tensor(\"zeros:0\", shape=(100,), dtype=float32)\n"
          ]
        }
      ],
      "source": [
        "a = tf.zeros((100,))\n",
        "print(a)"
      ]
    },
    {
      "cell_type": "code",
      "source": [
        "b = tf.ones((100,))\n",
        "print(b)"
      ],
      "metadata": {
        "colab": {
          "base_uri": "https://localhost:8080/"
        },
        "id": "Pye2ZSyeI4xs",
        "outputId": "badd70d1-3e89-4201-d6cb-328e218ff337"
      },
      "execution_count": null,
      "outputs": [
        {
          "output_type": "stream",
          "name": "stdout",
          "text": [
            "Tensor(\"ones:0\", shape=(100,), dtype=float32)\n"
          ]
        }
      ]
    },
    {
      "cell_type": "code",
      "source": [
        "c = tf.fill((100,), 5)\n",
        "print(c)"
      ],
      "metadata": {
        "colab": {
          "base_uri": "https://localhost:8080/"
        },
        "id": "rF71XNhoJAB2",
        "outputId": "d0579483-29dd-4b0b-aee9-2c4bccef715b"
      },
      "execution_count": null,
      "outputs": [
        {
          "output_type": "stream",
          "name": "stdout",
          "text": [
            "Tensor(\"Fill:0\", shape=(100,), dtype=int32)\n"
          ]
        }
      ]
    },
    {
      "cell_type": "markdown",
      "metadata": {
        "id": "aCaAabI_Nydz"
      },
      "source": [
        "# Computational graphs"
      ]
    },
    {
      "cell_type": "markdown",
      "metadata": {
        "id": "DSi-YfrHNydz"
      },
      "source": [
        "## Building and running a simple computational graph"
      ]
    },
    {
      "cell_type": "code",
      "execution_count": null,
      "metadata": {
        "colab": {
          "base_uri": "https://localhost:8080/"
        },
        "id": "eFuMRgR8Nyd0",
        "outputId": "70b510bb-bf65-4048-bcb4-cc2460702ba0"
      },
      "outputs": [
        {
          "output_type": "stream",
          "name": "stdout",
          "text": [
            "wyjście :  [0.         0.3        0.6        0.90000004]\n"
          ]
        }
      ],
      "source": [
        "# Placeholders are not executable immediately, so we need to disable execution requests in TF2\n",
        "tf.compat.v1.disable_eager_execution()\n",
        "\n",
        "# Linear model y = w * x + b\n",
        "# Defining model parameters\n",
        "w = tf.Variable([.3], tf.float32)\n",
        "b = tf.Variable([-.3], tf.float32)\n",
        "# Defining model input and output\n",
        "x = tf.compat.v1.placeholder(tf.float32)\n",
        "y = w * x + b\n",
        "output = 0\n",
        "\n",
        "with tf.compat.v1.Session() as sess:\n",
        "    # Initialization and printing of the y variable\n",
        "    tf.compat.v1.global_variables_initializer().run()\n",
        "    output = sess.run(y, {x: [1, 2, 3, 4]})\n",
        "print('wyjście : ', output)"
      ]
    },
    {
      "cell_type": "markdown",
      "metadata": {
        "id": "3Ld5AKaONyd0"
      },
      "source": [
        "## Graph on computing devices"
      ]
    },
    {
      "cell_type": "markdown",
      "metadata": {
        "id": "k2lIJi9JNyd0"
      },
      "source": [
        "### List of available devices"
      ]
    },
    {
      "cell_type": "code",
      "execution_count": null,
      "metadata": {
        "colab": {
          "base_uri": "https://localhost:8080/"
        },
        "id": "QnI6IPwiNyd0",
        "outputId": "8d6efb77-d6ef-4a30-84f6-7df3f4c880a0"
      },
      "outputs": [
        {
          "output_type": "stream",
          "name": "stdout",
          "text": [
            "[name: \"/device:CPU:0\"\n",
            "device_type: \"CPU\"\n",
            "memory_limit: 268435456\n",
            "locality {\n",
            "}\n",
            "incarnation: 15879697661676224077\n",
            "xla_global_id: -1\n",
            ", name: \"/device:GPU:0\"\n",
            "device_type: \"GPU\"\n",
            "memory_limit: 14444920832\n",
            "locality {\n",
            "  bus_id: 1\n",
            "  links {\n",
            "  }\n",
            "}\n",
            "incarnation: 9394181085866978986\n",
            "physical_device_desc: \"device: 0, name: Tesla T4, pci bus id: 0000:00:04.0, compute capability: 7.5\"\n",
            "xla_global_id: 416903419\n",
            "]\n"
          ]
        }
      ],
      "source": [
        "#On Collab beforehand, change the hardware acceleration to GPU\n",
        "from tensorflow.python.client import device_lib\n",
        "\n",
        "print(device_lib.list_local_devices())"
      ]
    },
    {
      "cell_type": "markdown",
      "metadata": {
        "id": "0tOr0nl_Nyd0"
      },
      "source": [
        "### Default deployment"
      ]
    },
    {
      "cell_type": "code",
      "execution_count": null,
      "metadata": {
        "colab": {
          "base_uri": "https://localhost:8080/"
        },
        "id": "yPSBbHH8Nyd0",
        "outputId": "d9777754-d806-40aa-bfe0-66b8674ab7e6"
      },
      "outputs": [
        {
          "output_type": "stream",
          "name": "stdout",
          "text": [
            "Device mapping:\n",
            "/job:localhost/replica:0/task:0/device:GPU:0 -> device: 0, name: Tesla T4, pci bus id: 0000:00:04.0, compute capability: 7.5\n",
            "\n",
            "wyjście [0.         0.3        0.6        0.90000004]\n"
          ]
        }
      ],
      "source": [
        "from tensorflow.python.framework import ops\n",
        "ops.reset_default_graph()\n",
        "\n",
        "# Define model parameters\n",
        "w = tf.Variable([.3], tf.float32)\n",
        "b = tf.Variable([-.3], tf.float32)\n",
        "# Defining model input and output\n",
        "x = tf.compat.v1.placeholder(tf.float32)\n",
        "y = w * x + b\n",
        "\n",
        "config = tf.compat.v1.ConfigProto()\n",
        "config.log_device_placement = True\n",
        "\n",
        "with tf.compat.v1.Session(config=config) as sess:\n",
        "    # initialization and printing of the y variable\n",
        "    sess.run(tf.compat.v1.global_variables_initializer())\n",
        "    print('input', sess.run(y, {x: [1, 2, 3, 4]}))"
      ]
    },
    {
      "cell_type": "markdown",
      "metadata": {
        "id": "39VXxpQrNyd0"
      },
      "source": [
        "### Deployment on the CPU"
      ]
    },
    {
      "cell_type": "code",
      "execution_count": null,
      "metadata": {
        "colab": {
          "base_uri": "https://localhost:8080/"
        },
        "id": "gtweFqOXNyd0",
        "outputId": "2e7578e3-f780-4dee-91e7-e8749561f7b9"
      },
      "outputs": [
        {
          "output_type": "stream",
          "name": "stdout",
          "text": [
            "Device mapping:\n",
            "/job:localhost/replica:0/task:0/device:GPU:0 -> device: 0, name: Tesla T4, pci bus id: 0000:00:04.0, compute capability: 7.5\n",
            "\n",
            "wyjście [0.         0.3        0.6        0.90000004]\n"
          ]
        }
      ],
      "source": [
        "ops.reset_default_graph()\n",
        "\n",
        "with tf.device('/device:CPU:0'):\n",
        "    # Defining model parameters\n",
        "    w = tf.Variable([.3], tf.float32)\n",
        "    b = tf.Variable([-.3], tf.float32)\n",
        "    # Defining model input and output\n",
        "    x = tf.compat.v1.placeholder(tf.float32)\n",
        "    y = w * x + b\n",
        "\n",
        "    config = tf.compat.v1.ConfigProto()\n",
        "    config.log_device_placement = True\n",
        "\n",
        "    with tf.compat.v1.Session(config=config) as sess:\n",
        "        # initialization and printing of the y variable\n",
        "        sess.run(tf.compat.v1.global_variables_initializer())\n",
        "        print('output', sess.run(y, {x: [1, 2, 3, 4]}))"
      ]
    },
    {
      "cell_type": "markdown",
      "metadata": {
        "id": "SJAp1H9fNyd0"
      },
      "source": [
        "### Deployment to CPU and GPU"
      ]
    },
    {
      "cell_type": "code",
      "execution_count": null,
      "metadata": {
        "colab": {
          "base_uri": "https://localhost:8080/"
        },
        "id": "4YtQTcrkNyd0",
        "outputId": "b15fe9c9-f84e-4bfb-f3ea-2dda444f695c"
      },
      "outputs": [
        {
          "output_type": "stream",
          "name": "stdout",
          "text": [
            "Device mapping:\n",
            "/job:localhost/replica:0/task:0/device:GPU:0 -> device: 0, name: Tesla T4, pci bus id: 0000:00:04.0, compute capability: 7.5\n",
            "\n",
            "wyjście [0.         0.3        0.6        0.90000004]\n"
          ]
        }
      ],
      "source": [
        "ops.reset_default_graph()\n",
        "\n",
        "with tf.device('/device:CPU:0'):\n",
        "    # Defining model parameters\n",
        "    w = tf.Variable([.3], tf.float32)\n",
        "    b = tf.Variable([-.3], tf.float32)\n",
        "    # Defining model input and output\n",
        "    x = tf.compat.v1.placeholder(tf.float32)\n",
        "with tf.device('/device:GPU:0'):\n",
        "    y = w * x + b\n",
        "\n",
        "config = tf.compat.v1.ConfigProto()\n",
        "config.log_device_placement = True\n",
        "\n",
        "with tf.compat.v1.Session(config=config) as sess:\n",
        "    # initialization and printing of the y variable\n",
        "    sess.run(tf.compat.v1.global_variables_initializer())\n",
        "    print('output', sess.run(y, {x: [1, 2, 3, 4]}))"
      ]
    },
    {
      "cell_type": "markdown",
      "metadata": {
        "id": "lHA1ttkxNyd0"
      },
      "source": [
        "## Making graph g the default"
      ]
    },
    {
      "cell_type": "code",
      "execution_count": null,
      "metadata": {
        "colab": {
          "base_uri": "https://localhost:8080/"
        },
        "id": "agSqxVc0Nyd0",
        "outputId": "822f258f-e84d-4e88-96c2-6cbd07974060"
      },
      "outputs": [
        {
          "output_type": "stream",
          "name": "stdout",
          "text": [
            "wyjście :  [0.         0.3        0.6        0.90000004]\n"
          ]
        }
      ],
      "source": [
        "g = tf.Graph()\n",
        "output = 0\n",
        "\n",
        "# Przyjmujemy model liniowy y = w * x + b\n",
        "\n",
        "with g.as_default():\n",
        "    # Definiowanie parametrów modelu\n",
        "    w = tf.Variable([.3], tf.float32)\n",
        "    b = tf.Variable([-.3], tf.float32)\n",
        "    # Definiowanie wejścia i wyjścia modelu\n",
        "    x = tf.compat.v1.placeholder(tf.float32)\n",
        "    y = w * x + b\n",
        "\n",
        "with tf.compat.v1.Session(graph=g) as sess:\n",
        "    # Inicjacja i wydruk zmiennej y\n",
        "    tf.compat.v1.global_variables_initializer().run()\n",
        "    output = sess.run(y, {x: [1, 2, 3, 4]})\n",
        "\n",
        "print('wyjście : ', output)"
      ]
    },
    {
      "cell_type": "markdown",
      "metadata": {
        "id": "tJGU10U-Nyd0"
      },
      "source": [
        "# Logistic regression with TensorFlow\n",
        "\n",
        "### NOTE: Necessary to restart the environment due to the use of eager mode disabled earlier!"
      ]
    },
    {
      "cell_type": "markdown",
      "source": [
        "## Data preparing "
      ],
      "metadata": {
        "id": "OYwd87u-OxQq"
      }
    },
    {
      "cell_type": "code",
      "execution_count": null,
      "metadata": {
        "colab": {
          "base_uri": "https://localhost:8080/"
        },
        "id": "01VmPIsPNyd0",
        "outputId": "c1858303-2fd3-4802-f9e6-4b1b98533758"
      },
      "outputs": [
        {
          "output_type": "stream",
          "name": "stdout",
          "text": [
            "Wczytane x i y\n",
            "Szkolenie: x:60000, y:(60000,)\n",
            "Test: x:(10000, 28, 28), y:(10000,)\n"
          ]
        }
      ],
      "source": [
        "import tensorflow as tf\n",
        "from keras.datasets import mnist\n",
        "import numpy as np\n",
        "\n",
        "# Preparing x and y data\n",
        "\n",
        "(x_train,y_train), (x_test,y_test)=mnist.load_data()\n",
        "\n",
        "print('Loaded x and y')\n",
        "print('Training: x:{}, y:{}'.format(len(x_train),y_train.shape))\n",
        "print('Test: x:{}, y:{}'.format(x_test.shape,y_test.shape))"
      ]
    },
    {
      "cell_type": "code",
      "execution_count": null,
      "metadata": {
        "id": "tlH3lc10Nyd1"
      },
      "outputs": [],
      "source": [
        "# Loading data\n",
        "(x_train, y_train), (x_test, y_test) = mnist.load_data()\n",
        "\n",
        "# Conversion to float32\n",
        "x_train, x_test = np.array(x_train, np.float32), np.array(x_test, np.float32)\n",
        "\n",
        "# Flatten the images to a one-dimensional vector of 784 pixels (28x28).\n",
        "x_train, x_test = x_train.reshape([-1, 784]), x_test.reshape([-1, 784])\n",
        "\n",
        "# Normalize values from [0, 255] to [0, 1].\n",
        "x_train, x_test = x_train / 255., x_test / 255.\n"
      ]
    },
    {
      "cell_type": "markdown",
      "source": [
        "## Dividing data into batches"
      ],
      "metadata": {
        "id": "2B4Bq2JgO0wS"
      }
    },
    {
      "cell_type": "code",
      "source": [
        "# MNIST parameters\n",
        "\n",
        "num_classes = 10 # 0 to 9 digits\n",
        "\n",
        "num_features = 784 # 28*28\n",
        "\n",
        "# Training parameters\n",
        "\n",
        "learning_rate = 0.01\n",
        "\n",
        "training_steps = 1000\n",
        "\n",
        "batch_size = 256\n",
        "\n",
        "display_step = 5"
      ],
      "metadata": {
        "id": "NqAQyCyVO30y"
      },
      "execution_count": null,
      "outputs": []
    },
    {
      "cell_type": "code",
      "source": [
        "train_data=tf.data.Dataset.from_tensor_slices((x_train,y_train))\n",
        "\n",
        "train_data=train_data.repeat().shuffle(5000).batch(batch_size).prefetch(1)"
      ],
      "metadata": {
        "id": "6HdLvVA-ZQUd"
      },
      "execution_count": null,
      "outputs": []
    },
    {
      "cell_type": "markdown",
      "source": [
        "## Model building"
      ],
      "metadata": {
        "id": "jsy3kWbWO_pL"
      }
    },
    {
      "cell_type": "code",
      "source": [
        "# Weights with size [784, 10].\n",
        "W = tf.Variable(tf.ones([num_features, num_classes]), tf.float32, name=\"weight\")\n",
        "\n",
        "# Bias with size [10].\n",
        "\n",
        "b = tf.Variable(tf.zeros([num_classes]), tf.float32, name=\"bias\")"
      ],
      "metadata": {
        "id": "4Na4Rn_jO-ng"
      },
      "execution_count": null,
      "outputs": []
    },
    {
      "cell_type": "markdown",
      "source": [
        "## Loss function and logistic regression"
      ],
      "metadata": {
        "id": "QYB6I56GPD-S"
      }
    },
    {
      "cell_type": "code",
      "source": [
        "def cross_entropy(y_pred, y_true):\n",
        "    # Encoding labels\n",
        "    y_true = tf.one_hot(y_true, depth=num_classes)\n",
        "    \n",
        "    # In order to avoid zero values, we replace small values with 1\n",
        "    y_pred = tf.clip_by_value(y_pred, 1e-9, 1.)\n",
        "    \n",
        "    # Counting entropy \n",
        "    return tf.reduce_mean(-tf.reduce_sum(y_true * tf.math.log(y_pred),1))\n",
        "\n",
        "\n",
        "def logistic_regression(x):\n",
        "\n",
        "    # We will use softmax to normalize the results to a probability distribution.\n",
        "    return tf.nn.softmax(tf.matmul(x, W) + b)"
      ],
      "metadata": {
        "id": "fKrxbGa-POcW"
      },
      "execution_count": null,
      "outputs": []
    },
    {
      "cell_type": "markdown",
      "source": [
        "## Accuracy function and optimizer"
      ],
      "metadata": {
        "id": "1sSeCatHde2v"
      }
    },
    {
      "cell_type": "code",
      "source": [
        "def accuracy(y_pred, y_true):\n",
        "\n",
        "  # The prediction class is the index of the highest score in the prediction vector (i.e. argmax)\n",
        "\n",
        "  correct_prediction = tf.equal(tf.argmax(y_pred, 1), tf.cast(y_true, tf.int64))\n",
        "\n",
        "  return tf.reduce_mean(tf.cast(correct_prediction, tf.float32))\n",
        "\n",
        "# SGD Optimizer\n",
        "\n",
        "optimizer = tf.optimizers.SGD(learning_rate)"
      ],
      "metadata": {
        "id": "siRbYi5VT84K"
      },
      "execution_count": null,
      "outputs": []
    },
    {
      "cell_type": "markdown",
      "source": [
        "## Model Training "
      ],
      "metadata": {
        "id": "dd3oDoS5QCJZ"
      }
    },
    {
      "cell_type": "code",
      "source": [
        "# Optymalization process\n",
        "\n",
        "def run_optimization(x, y):\n",
        "\n",
        "    with tf.GradientTape() as g:\n",
        "        \n",
        "        pred = logistic_regression(x)\n",
        "        \n",
        "        loss = cross_entropy(pred, y)\n",
        "\n",
        "    # Gradients counting \n",
        "\n",
        "    gradients = g.gradient(loss, [W, b])\n",
        "\n",
        "    # Update weights and biases\n",
        "\n",
        "    optimizer.apply_gradients(zip(gradients, [W, b]))"
      ],
      "metadata": {
        "id": "awyeZpVVQD92"
      },
      "execution_count": null,
      "outputs": []
    },
    {
      "cell_type": "code",
      "source": [
        "# Start training for a given number of epochs\n",
        "\n",
        "for step, (batch_x, batch_y) in enumerate(train_data.take(training_steps), 1):\n",
        "\n",
        "    run_optimization(batch_x, batch_y)\n",
        "\n",
        "    #Calculation of parameters for each era\n",
        "\n",
        "    if step % display_step == 0:\n",
        "\n",
        "        pred = logistic_regression(batch_x)\n",
        "\n",
        "        loss = cross_entropy(pred, batch_y)\n",
        "\n",
        "        acc = accuracy(pred, batch_y)\n",
        "\n",
        "        print(\"step: %i, loss: %f, accuracy: %f\" % (step, loss, acc))"
      ],
      "metadata": {
        "colab": {
          "base_uri": "https://localhost:8080/"
        },
        "id": "iSIjrSdaeM6-",
        "outputId": "18ef0a99-ce7d-4162-bb5c-9cecfc38e1f2"
      },
      "execution_count": null,
      "outputs": [
        {
          "output_type": "stream",
          "name": "stdout",
          "text": [
            "step: 5, loss: 2.243814, accuracy: 0.644531\n",
            "step: 10, loss: 2.193093, accuracy: 0.644531\n",
            "step: 15, loss: 2.137759, accuracy: 0.710938\n",
            "step: 20, loss: 2.107600, accuracy: 0.671875\n",
            "step: 25, loss: 2.031835, accuracy: 0.765625\n",
            "step: 30, loss: 1.993534, accuracy: 0.750000\n",
            "step: 35, loss: 1.982471, accuracy: 0.695312\n",
            "step: 40, loss: 1.928905, accuracy: 0.734375\n",
            "step: 45, loss: 1.860248, accuracy: 0.761719\n",
            "step: 50, loss: 1.873184, accuracy: 0.710938\n",
            "step: 55, loss: 1.825601, accuracy: 0.765625\n",
            "step: 60, loss: 1.799773, accuracy: 0.734375\n",
            "step: 65, loss: 1.765999, accuracy: 0.773438\n",
            "step: 70, loss: 1.700775, accuracy: 0.757812\n",
            "step: 75, loss: 1.715378, accuracy: 0.753906\n",
            "step: 80, loss: 1.687870, accuracy: 0.761719\n",
            "step: 85, loss: 1.654011, accuracy: 0.761719\n",
            "step: 90, loss: 1.584464, accuracy: 0.796875\n",
            "step: 95, loss: 1.610246, accuracy: 0.750000\n",
            "step: 100, loss: 1.558839, accuracy: 0.750000\n",
            "step: 105, loss: 1.519194, accuracy: 0.800781\n",
            "step: 110, loss: 1.553070, accuracy: 0.773438\n",
            "step: 115, loss: 1.476130, accuracy: 0.800781\n",
            "step: 120, loss: 1.483652, accuracy: 0.808594\n",
            "step: 125, loss: 1.422235, accuracy: 0.789062\n",
            "step: 130, loss: 1.477397, accuracy: 0.761719\n",
            "step: 135, loss: 1.427348, accuracy: 0.761719\n",
            "step: 140, loss: 1.422413, accuracy: 0.785156\n",
            "step: 145, loss: 1.373858, accuracy: 0.808594\n",
            "step: 150, loss: 1.348999, accuracy: 0.792969\n",
            "step: 155, loss: 1.299176, accuracy: 0.808594\n",
            "step: 160, loss: 1.345121, accuracy: 0.789062\n",
            "step: 165, loss: 1.309498, accuracy: 0.820312\n",
            "step: 170, loss: 1.302487, accuracy: 0.804688\n",
            "step: 175, loss: 1.272593, accuracy: 0.781250\n",
            "step: 180, loss: 1.289635, accuracy: 0.777344\n",
            "step: 185, loss: 1.264321, accuracy: 0.792969\n",
            "step: 190, loss: 1.240022, accuracy: 0.785156\n",
            "step: 195, loss: 1.222389, accuracy: 0.808594\n",
            "step: 200, loss: 1.163312, accuracy: 0.839844\n",
            "step: 205, loss: 1.162900, accuracy: 0.808594\n",
            "step: 210, loss: 1.142193, accuracy: 0.832031\n",
            "step: 215, loss: 1.081543, accuracy: 0.847656\n",
            "step: 220, loss: 1.109830, accuracy: 0.855469\n",
            "step: 225, loss: 1.083925, accuracy: 0.847656\n",
            "step: 230, loss: 1.050452, accuracy: 0.847656\n",
            "step: 235, loss: 1.051906, accuracy: 0.851562\n",
            "step: 240, loss: 1.064324, accuracy: 0.843750\n",
            "step: 245, loss: 1.028730, accuracy: 0.800781\n",
            "step: 250, loss: 1.045305, accuracy: 0.851562\n",
            "step: 255, loss: 1.022707, accuracy: 0.867188\n",
            "step: 260, loss: 1.036795, accuracy: 0.820312\n",
            "step: 265, loss: 0.982159, accuracy: 0.847656\n",
            "step: 270, loss: 0.968701, accuracy: 0.871094\n",
            "step: 275, loss: 1.083655, accuracy: 0.777344\n",
            "step: 280, loss: 1.076058, accuracy: 0.769531\n",
            "step: 285, loss: 1.079383, accuracy: 0.765625\n",
            "step: 290, loss: 1.055779, accuracy: 0.832031\n",
            "step: 295, loss: 1.056745, accuracy: 0.812500\n",
            "step: 300, loss: 1.015788, accuracy: 0.835938\n",
            "step: 305, loss: 0.959367, accuracy: 0.855469\n",
            "step: 310, loss: 0.997593, accuracy: 0.839844\n",
            "step: 315, loss: 0.992584, accuracy: 0.800781\n",
            "step: 320, loss: 1.005536, accuracy: 0.792969\n",
            "step: 325, loss: 0.968319, accuracy: 0.828125\n",
            "step: 330, loss: 0.870591, accuracy: 0.886719\n",
            "step: 335, loss: 0.974823, accuracy: 0.839844\n",
            "step: 340, loss: 0.980028, accuracy: 0.832031\n",
            "step: 345, loss: 0.981680, accuracy: 0.820312\n",
            "step: 350, loss: 0.950588, accuracy: 0.835938\n",
            "step: 355, loss: 0.998223, accuracy: 0.796875\n",
            "step: 360, loss: 0.949120, accuracy: 0.824219\n",
            "step: 365, loss: 0.923812, accuracy: 0.828125\n",
            "step: 370, loss: 0.864830, accuracy: 0.851562\n",
            "step: 375, loss: 0.926236, accuracy: 0.839844\n",
            "step: 380, loss: 0.926327, accuracy: 0.820312\n",
            "step: 385, loss: 0.910833, accuracy: 0.824219\n",
            "step: 390, loss: 0.871917, accuracy: 0.832031\n",
            "step: 395, loss: 0.911496, accuracy: 0.828125\n",
            "step: 400, loss: 0.937208, accuracy: 0.812500\n",
            "step: 405, loss: 0.913592, accuracy: 0.824219\n",
            "step: 410, loss: 0.818621, accuracy: 0.843750\n",
            "step: 415, loss: 0.803165, accuracy: 0.863281\n",
            "step: 420, loss: 0.885500, accuracy: 0.816406\n",
            "step: 425, loss: 0.823598, accuracy: 0.859375\n",
            "step: 430, loss: 0.853912, accuracy: 0.832031\n",
            "step: 435, loss: 0.857032, accuracy: 0.828125\n",
            "step: 440, loss: 0.877584, accuracy: 0.808594\n",
            "step: 445, loss: 0.769652, accuracy: 0.867188\n",
            "step: 450, loss: 0.857412, accuracy: 0.851562\n",
            "step: 455, loss: 0.765032, accuracy: 0.886719\n",
            "step: 460, loss: 0.767553, accuracy: 0.855469\n",
            "step: 465, loss: 0.824678, accuracy: 0.828125\n",
            "step: 470, loss: 0.769428, accuracy: 0.851562\n",
            "step: 475, loss: 0.806931, accuracy: 0.843750\n",
            "step: 480, loss: 0.796197, accuracy: 0.843750\n",
            "step: 485, loss: 0.819100, accuracy: 0.835938\n",
            "step: 490, loss: 0.777451, accuracy: 0.867188\n",
            "step: 495, loss: 0.755403, accuracy: 0.871094\n",
            "step: 500, loss: 0.852142, accuracy: 0.835938\n",
            "step: 505, loss: 0.771202, accuracy: 0.835938\n",
            "step: 510, loss: 0.780498, accuracy: 0.851562\n",
            "step: 515, loss: 0.756060, accuracy: 0.851562\n",
            "step: 520, loss: 0.807371, accuracy: 0.820312\n",
            "step: 525, loss: 0.838739, accuracy: 0.816406\n",
            "step: 530, loss: 0.708838, accuracy: 0.882812\n",
            "step: 535, loss: 0.761035, accuracy: 0.832031\n",
            "step: 540, loss: 0.757682, accuracy: 0.847656\n",
            "step: 545, loss: 0.778989, accuracy: 0.855469\n",
            "step: 550, loss: 0.783011, accuracy: 0.828125\n",
            "step: 555, loss: 0.807041, accuracy: 0.800781\n",
            "step: 560, loss: 0.834425, accuracy: 0.800781\n",
            "step: 565, loss: 0.798702, accuracy: 0.812500\n",
            "step: 570, loss: 0.759237, accuracy: 0.855469\n",
            "step: 575, loss: 0.743258, accuracy: 0.839844\n",
            "step: 580, loss: 0.722612, accuracy: 0.871094\n",
            "step: 585, loss: 0.758072, accuracy: 0.828125\n",
            "step: 590, loss: 0.772315, accuracy: 0.847656\n",
            "step: 595, loss: 0.717088, accuracy: 0.875000\n",
            "step: 600, loss: 0.731786, accuracy: 0.863281\n",
            "step: 605, loss: 0.705255, accuracy: 0.863281\n",
            "step: 610, loss: 0.751351, accuracy: 0.832031\n",
            "step: 615, loss: 0.740454, accuracy: 0.859375\n",
            "step: 620, loss: 0.691335, accuracy: 0.843750\n",
            "step: 625, loss: 0.788675, accuracy: 0.820312\n",
            "step: 630, loss: 0.747558, accuracy: 0.843750\n",
            "step: 635, loss: 0.641716, accuracy: 0.917969\n",
            "step: 640, loss: 0.673353, accuracy: 0.851562\n",
            "step: 645, loss: 0.771592, accuracy: 0.812500\n",
            "step: 650, loss: 0.710715, accuracy: 0.835938\n",
            "step: 655, loss: 0.712296, accuracy: 0.859375\n",
            "step: 660, loss: 0.731990, accuracy: 0.843750\n",
            "step: 665, loss: 0.793116, accuracy: 0.820312\n",
            "step: 670, loss: 0.713361, accuracy: 0.832031\n",
            "step: 675, loss: 0.712507, accuracy: 0.859375\n",
            "step: 680, loss: 0.674693, accuracy: 0.863281\n",
            "step: 685, loss: 0.668817, accuracy: 0.867188\n",
            "step: 690, loss: 0.644913, accuracy: 0.882812\n",
            "step: 695, loss: 0.628446, accuracy: 0.871094\n",
            "step: 700, loss: 0.631133, accuracy: 0.886719\n",
            "step: 705, loss: 0.698361, accuracy: 0.851562\n",
            "step: 710, loss: 0.634409, accuracy: 0.871094\n",
            "step: 715, loss: 0.683204, accuracy: 0.855469\n",
            "step: 720, loss: 0.722583, accuracy: 0.828125\n",
            "step: 725, loss: 0.721646, accuracy: 0.820312\n",
            "step: 730, loss: 0.642321, accuracy: 0.878906\n",
            "step: 735, loss: 0.731263, accuracy: 0.835938\n",
            "step: 740, loss: 0.627836, accuracy: 0.867188\n",
            "step: 745, loss: 0.708969, accuracy: 0.855469\n",
            "step: 750, loss: 0.743737, accuracy: 0.792969\n",
            "step: 755, loss: 0.713221, accuracy: 0.859375\n",
            "step: 760, loss: 0.643928, accuracy: 0.855469\n",
            "step: 765, loss: 0.645067, accuracy: 0.875000\n",
            "step: 770, loss: 0.761567, accuracy: 0.824219\n",
            "step: 775, loss: 0.708310, accuracy: 0.843750\n",
            "step: 780, loss: 0.631757, accuracy: 0.867188\n",
            "step: 785, loss: 0.584038, accuracy: 0.871094\n",
            "step: 790, loss: 0.632641, accuracy: 0.863281\n",
            "step: 795, loss: 0.654652, accuracy: 0.878906\n",
            "step: 800, loss: 0.709066, accuracy: 0.867188\n",
            "step: 805, loss: 0.734667, accuracy: 0.820312\n",
            "step: 810, loss: 0.643290, accuracy: 0.875000\n",
            "step: 815, loss: 0.708765, accuracy: 0.835938\n",
            "step: 820, loss: 0.607300, accuracy: 0.863281\n",
            "step: 825, loss: 0.641470, accuracy: 0.894531\n",
            "step: 830, loss: 0.640192, accuracy: 0.886719\n",
            "step: 835, loss: 0.652290, accuracy: 0.847656\n",
            "step: 840, loss: 0.636928, accuracy: 0.851562\n",
            "step: 845, loss: 0.671400, accuracy: 0.878906\n",
            "step: 850, loss: 0.673772, accuracy: 0.859375\n",
            "step: 855, loss: 0.704818, accuracy: 0.824219\n",
            "step: 860, loss: 0.577042, accuracy: 0.910156\n",
            "step: 865, loss: 0.705537, accuracy: 0.828125\n",
            "step: 870, loss: 0.723104, accuracy: 0.812500\n",
            "step: 875, loss: 0.665697, accuracy: 0.859375\n",
            "step: 880, loss: 0.644584, accuracy: 0.847656\n",
            "step: 885, loss: 0.612703, accuracy: 0.902344\n",
            "step: 890, loss: 0.609080, accuracy: 0.871094\n",
            "step: 895, loss: 0.673645, accuracy: 0.828125\n",
            "step: 900, loss: 0.614470, accuracy: 0.863281\n",
            "step: 905, loss: 0.676111, accuracy: 0.855469\n",
            "step: 910, loss: 0.584145, accuracy: 0.890625\n",
            "step: 915, loss: 0.594736, accuracy: 0.882812\n",
            "step: 920, loss: 0.577992, accuracy: 0.882812\n",
            "step: 925, loss: 0.550928, accuracy: 0.902344\n",
            "step: 930, loss: 0.560692, accuracy: 0.882812\n",
            "step: 935, loss: 0.588643, accuracy: 0.886719\n",
            "step: 940, loss: 0.556202, accuracy: 0.859375\n",
            "step: 945, loss: 0.606745, accuracy: 0.859375\n",
            "step: 950, loss: 0.544183, accuracy: 0.898438\n",
            "step: 955, loss: 0.569781, accuracy: 0.867188\n",
            "step: 960, loss: 0.619235, accuracy: 0.847656\n",
            "step: 965, loss: 0.539590, accuracy: 0.871094\n",
            "step: 970, loss: 0.657901, accuracy: 0.859375\n",
            "step: 975, loss: 0.664875, accuracy: 0.847656\n",
            "step: 980, loss: 0.597890, accuracy: 0.867188\n",
            "step: 985, loss: 0.661491, accuracy: 0.820312\n",
            "step: 990, loss: 0.707533, accuracy: 0.820312\n",
            "step: 995, loss: 0.582111, accuracy: 0.882812\n",
            "step: 1000, loss: 0.660345, accuracy: 0.843750\n"
          ]
        }
      ]
    },
    {
      "cell_type": "code",
      "source": [
        "# Model testing\n",
        "pred = logistic_regression(x_test)\n",
        "\n",
        "print(\"Test Accuracy: %f\" % accuracy(pred, y_test))"
      ],
      "metadata": {
        "colab": {
          "base_uri": "https://localhost:8080/"
        },
        "id": "MDSuBlyKQM1P",
        "outputId": "c8109f9d-9eb0-424d-ad05-6f2b748a57ca"
      },
      "execution_count": null,
      "outputs": [
        {
          "output_type": "stream",
          "name": "stdout",
          "text": [
            "Test Accuracy: 0.869700\n"
          ]
        }
      ]
    },
    {
      "cell_type": "markdown",
      "metadata": {
        "id": "9au8hVuNNyd1"
      },
      "source": [
        "# Logistic regression with Keras"
      ]
    },
    {
      "cell_type": "code",
      "execution_count": null,
      "metadata": {
        "id": "rp5st90rNyd1",
        "colab": {
          "base_uri": "https://localhost:8080/"
        },
        "outputId": "5caed636-88c8-4ac9-acf6-23c2495ec1d8"
      },
      "outputs": [
        {
          "output_type": "stream",
          "name": "stdout",
          "text": [
            "Epoch 1/5\n",
            "1875/1875 [==============================] - 5s 2ms/step - loss: 0.7743 - accuracy: 0.8169\n",
            "Epoch 2/5\n",
            "1875/1875 [==============================] - 4s 2ms/step - loss: 0.4569 - accuracy: 0.8804\n",
            "Epoch 3/5\n",
            "1875/1875 [==============================] - 4s 2ms/step - loss: 0.4039 - accuracy: 0.8909\n",
            "Epoch 4/5\n",
            "1875/1875 [==============================] - 4s 2ms/step - loss: 0.3773 - accuracy: 0.8971\n",
            "Epoch 5/5\n",
            "1875/1875 [==============================] - 4s 2ms/step - loss: 0.3604 - accuracy: 0.9007\n",
            "313/313 [==============================] - 1s 2ms/step - loss: 0.3355 - accuracy: 0.9085\n"
          ]
        },
        {
          "output_type": "execute_result",
          "data": {
            "text/plain": [
              "[0.33554795384407043, 0.9085000157356262]"
            ]
          },
          "metadata": {},
          "execution_count": 20
        }
      ],
      "source": [
        "(x_train,y_train), (x_test,y_test) = mnist.load_data()\n",
        "\n",
        "mnist.y_onehot = True\n",
        "\n",
        "x_train, x_test = x_train / 255.0, x_test / 255.0\n",
        "\n",
        "model = tf.keras.models.Sequential([\n",
        "  tf.keras.layers.Flatten(),\n",
        "  tf.keras.layers.Dense(10, activation=tf.nn.softmax)\n",
        "])\n",
        "model.compile(optimizer='sgd',\n",
        "              loss='sparse_categorical_crossentropy',\n",
        "              metrics=['accuracy'])\n",
        "\n",
        "model.fit(x_train, y_train, epochs=5)\n",
        "\n",
        "model.evaluate(x_test, y_test)"
      ]
    }
  ],
  "metadata": {
    "kernelspec": {
      "display_name": "Python 3 (ipykernel)",
      "language": "python",
      "name": "python3"
    },
    "language_info": {
      "codemirror_mode": {
        "name": "ipython",
        "version": 3
      },
      "file_extension": ".py",
      "mimetype": "text/x-python",
      "name": "python",
      "nbconvert_exporter": "python",
      "pygments_lexer": "ipython3",
      "version": "3.9.7"
    },
    "toc": {
      "base_numbering": 1,
      "nav_menu": {
        "height": "306px",
        "width": "240px"
      },
      "number_sections": true,
      "sideBar": true,
      "skip_h1_title": false,
      "title_cell": "Spis treści",
      "title_sidebar": "Zawartość",
      "toc_cell": true,
      "toc_position": {},
      "toc_section_display": "block",
      "toc_window_display": true
    },
    "colab": {
      "provenance": [],
      "toc_visible": true,
      "collapsed_sections": [
        "lHA1ttkxNyd0"
      ],
      "include_colab_link": true
    },
    "accelerator": "GPU",
    "gpuClass": "standard"
  },
  "nbformat": 4,
  "nbformat_minor": 0
}